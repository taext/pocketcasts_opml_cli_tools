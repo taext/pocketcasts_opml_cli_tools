{
 "cells": [
  {
   "cell_type": "markdown",
   "metadata": {},
   "source": [
    "# PowerCasts Jupyter Documentation v0.1"
   ]
  },
  {
   "cell_type": "markdown",
   "metadata": {},
   "source": [
    "------------  -------------  -------------  --------------"
   ]
  },
  {
   "cell_type": "markdown",
   "metadata": {},
   "source": [
    "## open random podcast in browser"
   ]
  },
  {
   "cell_type": "code",
   "execution_count": 12,
   "metadata": {},
   "outputs": [
    {
     "name": "stdout",
     "output_type": "stream",
     "text": [
      "#6837 http://www.podtrac.com/pts/redirect.mp3/feeds.soundcloud.com/stream/349294678-talk-chineasy-305-come-with-me-in-chinese-with-shaolan-and-jesse-edbrooke-from-transition-band.mp3\n"
     ]
    }
   ],
   "source": [
    "./GetRandomPodcast.ps1"
   ]
  },
  {
   "cell_type": "markdown",
   "metadata": {},
   "source": [
    "## same and also show podcast episode count"
   ]
  },
  {
   "cell_type": "code",
   "execution_count": 16,
   "metadata": {},
   "outputs": [
    {
     "name": "stdout",
     "output_type": "stream",
     "text": [
      "Podcast episode count: 38434\n",
      "#20097 http://media.blubrry.com/chinabusinesscast/s3-ap-southeast-1.amazonaws.com/chinabusinesscast/cpc09.mp3\n"
     ]
    }
   ],
   "source": [
    "./GetRandomPodcast.ps1 -e"
   ]
  },
  {
   "cell_type": "markdown",
   "metadata": {},
   "source": [
    "## use alternative browser"
   ]
  },
  {
   "cell_type": "code",
   "execution_count": 13,
   "metadata": {},
   "outputs": [
    {
     "name": "stdout",
     "output_type": "stream",
     "text": [
      "#21335 http://open.live.bbc.co.uk/mediaselector/5/redir/version/2.0/mediaset/audio-nondrm-download/proto/http/vpid/p02r5myf.mp3\n"
     ]
    }
   ],
   "source": [
    "./GetRandomPodcast.ps1 -b google-chrome"
   ]
  },
  {
   "cell_type": "markdown",
   "metadata": {},
   "source": [
    "## download only"
   ]
  },
  {
   "cell_type": "code",
   "execution_count": 3,
   "metadata": {},
   "outputs": [
    {
     "name": "stdout",
     "output_type": "stream",
     "text": [
      "#16056 https://0267f973c7f511eda6a4-193e28812cee85d6e20ea22afb83e185.ssl.cf1.rackcdn.com/evolving-threatscape-directLink-7-i-2211.mp3\n"
     ]
    }
   ],
   "source": [
    "./GetRandomPodcast.ps1 -d"
   ]
  },
  {
   "cell_type": "markdown",
   "metadata": {},
   "source": [
    "## multiple MP3s"
   ]
  },
  {
   "cell_type": "code",
   "execution_count": 20,
   "metadata": {},
   "outputs": [
    {
     "name": "stdout",
     "output_type": "stream",
     "text": [
      "#7396 https://open.live.bbc.co.uk/mediaselector/5/redir/version/2.0/mediaset/audio-nondrm-download/proto/https/vpid/p02q59hh.mp3\n",
      "#9184 http://www.podtrac.com/pts/redirect.mp3/feeds.soundcloud.com/stream/277304860-halfhourintern-breakfast-enthusiast-with-anya-semenova.mp3\n"
     ]
    }
   ],
   "source": [
    "./GetRandomPodcast.ps1 -c 2"
   ]
  },
  {
   "cell_type": "markdown",
   "metadata": {},
   "source": [
    "## alternative MP3 URL list file"
   ]
  },
  {
   "cell_type": "code",
   "execution_count": 8,
   "metadata": {},
   "outputs": [
    {
     "name": "stdout",
     "output_type": "stream",
     "text": [
      "#168 https://ftp.c3d2.de/pentacast/pentacast-54-DS17-III.mp3\n"
     ]
    }
   ],
   "source": [
    "./GetRandomPodcast.ps1 -f newest_episodes.txt"
   ]
  },
  {
   "cell_type": "code",
   "execution_count": null,
   "metadata": {},
   "outputs": [],
   "source": []
  },
  {
   "cell_type": "markdown",
   "metadata": {},
   "source": [
    "## online homepage"
   ]
  },
  {
   "cell_type": "code",
   "execution_count": 15,
   "metadata": {},
   "outputs": [
    {
     "name": "stdout",
     "output_type": "stream",
     "text": []
    }
   ],
   "source": [
    "./GetRandomPodcast.ps1 -help"
   ]
  },
  {
   "cell_type": "markdown",
   "metadata": {},
   "source": [
    "## detailed get-help"
   ]
  },
  {
   "cell_type": "code",
   "execution_count": 14,
   "metadata": {},
   "outputs": [
    {
     "name": "stdout",
     "output_type": "stream",
     "text": [
      "\n",
      "NAME\n",
      "    /home/dd/Documents/powercasts_test/powercasts/GetRandomPodcast.ps1\n",
      "    \n",
      "SYNOPSIS\n",
      "    Play or download random podcast(s)\n",
      "    \n",
      "    \n",
      "SYNTAX\n",
      "    /home/dd/Documents/powercasts_test/powercasts/GetRandomPodcast.ps1 \n",
      "    [[-mp3FileCount] <Int32>] [[-pathToMp3File] <String>] [-downloadOnly] \n",
      "    [[-browser] <Object>] [-episodeCount] [-help] [<CommonParameters>]\n",
      "    \n",
      "    \n",
      "DESCRIPTION\n",
      "    Play or download random podcast(s) from \n",
      "    podcast MP3 URL file podcasts_opml.txt \n",
      "    or provide alternative filename at runtime.\n",
      "    \n",
      "\n",
      "PARAMETERS\n",
      "    -mp3FileCount <Int32>\n",
      "        Download multiple MP3s\n",
      "        \n",
      "    -pathToMp3File <String>\n",
      "        Define alternative URL list file\n",
      "        \n",
      "    -downloadOnly [<SwitchParameter>]\n",
      "        Download file(s) only\n",
      "        \n",
      "    -browser <Object>\n",
      "        Define browser\n",
      "        \n",
      "    -episodeCount [<SwitchParameter>]\n",
      "        Get episode count\n",
      "        \n",
      "    -help [<SwitchParameter>]\n",
      "        open github powercasts documentation\n",
      "        \n",
      "    <CommonParameters>\n",
      "        This cmdlet supports the common parameters: Verbose, Debug,\n",
      "        ErrorAction, ErrorVariable, WarningAction, WarningVariable,\n",
      "        OutBuffer, PipelineVariable, and OutVariable. For more information, see\n",
      "        about_CommonParameters \n",
      "    (https://go.microsoft.com/fwlink/?LinkID=113216). \n",
      "    \n",
      "REMARKS\n",
      "    To see the examples, type: \"get-help \n",
      "    /home/dd/Documents/powercasts_test/powercasts/GetRandomPodcast.ps1 \n",
      "    -examples\".\n",
      "    For more information, type: \"get-help \n",
      "    /home/dd/Documents/powercasts_test/powercasts/GetRandomPodcast.ps1 \n",
      "    -detailed\".\n",
      "    For technical information, type: \"get-help \n",
      "    /home/dd/Documents/powercasts_test/powercasts/GetRandomPodcast.ps1 -full\".\n",
      "\n",
      "\n",
      "\n"
     ]
    }
   ],
   "source": [
    "get-help ./GetRandomPodcast.ps1 -detailed"
   ]
  },
  {
   "cell_type": "code",
   "execution_count": null,
   "metadata": {},
   "outputs": [],
   "source": []
  }
 ],
 "metadata": {
  "kernelspec": {
   "display_name": "PowerShell",
   "language": "powershell",
   "name": "powershell"
  },
  "language_info": {
   "codemirror_mode": "shell",
   "file_extension": ".ps1",
   "mimetype": "text/x-sh",
   "name": "powershell"
  }
 },
 "nbformat": 4,
 "nbformat_minor": 2
}
