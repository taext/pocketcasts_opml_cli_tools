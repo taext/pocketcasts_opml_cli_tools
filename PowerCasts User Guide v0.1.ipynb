{
 "cells": [
  {
   "cell_type": "markdown",
   "metadata": {},
   "source": [
    "# PowerCasts User Guide v0.1"
   ]
  },
  {
   "cell_type": "markdown",
   "metadata": {},
   "source": [
    "<br>"
   ]
  },
  {
   "cell_type": "markdown",
   "metadata": {},
   "source": [
    "### 1. Parse OPML PocketCast exported feed"
   ]
  },
  {
   "cell_type": "markdown",
   "metadata": {},
   "source": [
    "Run `opml_parser_2.py` with your downloaded OPML XML filename as argument to build a JSON with every full-text RSS feed and a text file `podcasts_opml.txt` with all episode URLs:"
   ]
  },
  {
   "cell_type": "code",
   "execution_count": null,
   "metadata": {},
   "outputs": [],
   "source": [
    "! ./python opml_parser_2.py podcasts_opml.xml"
   ]
  },
  {
   "cell_type": "code",
   "execution_count": 12,
   "metadata": {},
   "outputs": [
    {
     "name": "stdout",
     "output_type": "stream",
     "text": [
      "podcasts_opml.json  podcasts_opml.txt\n"
     ]
    }
   ],
   "source": [
    "! ls podcasts_opml.json podcasts_opml.txt"
   ]
  },
  {
   "cell_type": "markdown",
   "metadata": {},
   "source": [
    "<br>"
   ]
  },
  {
   "cell_type": "markdown",
   "metadata": {},
   "source": [
    "#### 1.1. Review all episodes text file"
   ]
  },
  {
   "cell_type": "code",
   "execution_count": 11,
   "metadata": {},
   "outputs": [
    {
     "name": "stdout",
     "output_type": "stream",
     "text": [
      "https://mcdn.podbean.com/mf/web/25unw3/I_en_forstad_til_m_rket_REMIX.mp3\n",
      "https://mcdn.podbean.com/mf/web/ptjkia/Hestene_er_Stille_REMIX.mp3\n",
      "https://mcdn.podbean.com/mf/web/r8f7nx/Farfars_to_liv_REMIX.mp3\n",
      "https://mcdn.podbean.com/mf/web/yi2emh/21_Roser_afsnit_05_31_07.mp3\n",
      "https://mcdn.podbean.com/mf/web/6pc4f7/21_Roser_afsnit_04_26_46.mp3\n"
     ]
    }
   ],
   "source": [
    "! head -n 5 podcasts_opml.txt"
   ]
  },
  {
   "cell_type": "code",
   "execution_count": 17,
   "metadata": {},
   "outputs": [
    {
     "name": "stdout",
     "output_type": "stream",
     "text": [
      "  76544   76544 6775120\n"
     ]
    }
   ],
   "source": [
    "! cat podcasts_opml.txt | wc      # 76.544 episodes"
   ]
  },
  {
   "cell_type": "markdown",
   "metadata": {},
   "source": [
    "<br>"
   ]
  },
  {
   "cell_type": "markdown",
   "metadata": {},
   "source": [
    "#### 1.2. Output newest episodes text file"
   ]
  },
  {
   "cell_type": "markdown",
   "metadata": {},
   "source": [
    "Run `newest.py` to output the newest episodes from all feeds:"
   ]
  },
  {
   "cell_type": "code",
   "execution_count": null,
   "metadata": {},
   "outputs": [],
   "source": [
    "! ./newest.py > newest.txt"
   ]
  },
  {
   "cell_type": "markdown",
   "metadata": {},
   "source": [
    "<br>"
   ]
  },
  {
   "cell_type": "markdown",
   "metadata": {},
   "source": [
    "#### 1.3. Output HTML links"
   ]
  },
  {
   "cell_type": "markdown",
   "metadata": {},
   "source": [
    "Run `html_parser.py` with `urls.txt` and `output.htm` arguments:"
   ]
  },
  {
   "cell_type": "code",
   "execution_count": null,
   "metadata": {},
   "outputs": [],
   "source": [
    "! ./html_parser.py newest.txt newest.htm"
   ]
  },
  {
   "cell_type": "code",
   "execution_count": null,
   "metadata": {},
   "outputs": [],
   "source": []
  }
 ],
 "metadata": {
  "kernelspec": {
   "display_name": "Python 3",
   "language": "python",
   "name": "python3"
  },
  "language_info": {
   "codemirror_mode": {
    "name": "ipython",
    "version": 3
   },
   "file_extension": ".py",
   "mimetype": "text/x-python",
   "name": "python",
   "nbconvert_exporter": "python",
   "pygments_lexer": "ipython3",
   "version": "3.6.6"
  }
 },
 "nbformat": 4,
 "nbformat_minor": 2
}
